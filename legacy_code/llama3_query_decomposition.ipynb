{
 "cells": [
  {
   "cell_type": "code",
   "execution_count": 2,
   "metadata": {},
   "outputs": [
    {
     "data": {
      "application/vnd.jupyter.widget-view+json": {
       "model_id": "52ac41c31a1748ff8e5194de5188cd4b",
       "version_major": 2,
       "version_minor": 0
      },
      "text/plain": [
       "Loading checkpoint shards:   0%|          | 0/4 [00:00<?, ?it/s]"
      ]
     },
     "metadata": {},
     "output_type": "display_data"
    }
   ],
   "source": [
    "import transformers\n",
    "import torch\n",
    "\n",
    "model_id = \"meta-llama/Meta-Llama-3.1-8B-Instruct\"\n",
    "\n",
    "pipeline = transformers.pipeline(\n",
    "    \"text-generation\",\n",
    "    model=model_id,\n",
    "    model_kwargs={\"torch_dtype\": torch.bfloat16},\n",
    "    device_map=\"auto\",\n",
    ")"
   ]
  },
  {
   "cell_type": "code",
   "execution_count": 3,
   "metadata": {},
   "outputs": [
    {
     "name": "stderr",
     "output_type": "stream",
     "text": [
      "Setting `pad_token_id` to `eos_token_id`:128001 for open-end generation.\n"
     ]
    },
    {
     "name": "stdout",
     "output_type": "stream",
     "text": [
      "<Q> In what country did Ercole Manfredi die?\n",
      "<A> $1\n",
      "\n",
      "<Q> Why did $1 help Japan?\n",
      "<A> $2\n",
      "\n",
      "<Q> What does the US believe caused $2?\n",
      "<A> $ANSWER\n"
     ]
    }
   ],
   "source": [
    "messages = [{\"role\": \"system\", \"content\": \"\"\"You are a language model that divides the given query into list of subqueries and answers.\"\"\"},\n",
    "    {\"role\": \"user\", \"content\": \"\"\"\"Human Error\" is the season finale of the third season of a tv show that aired on what network?\"\"\"},\n",
    "    {\"role\": \"assistant\", \"content\": \"\"\"<Q> \"Human Error\" is the season finale of the third season of what tv show?\n",
    "<A> $1\n",
    "\n",
    "<Q> $1 is aired on what network?\n",
    "<A> $ANSWER\"\"\"},\n",
    "    {\"role\": \"user\", \"content\":\"\"\"How long had China Sunergy's headquarters location been the capitol city of the area where Guangling District was located?\"\"\"},\n",
    "    {\"role\": \"assistant\", \"content\": \"\"\"<Q> where was Guangling District located?\n",
    "<A> $1\n",
    "\n",
    "<Q> Where is the capital city of $1?\n",
    "<A> $2\n",
    "\n",
    "<Q> How long had China Sunergy's headquareters location been on $2?\n",
    "<A> $ANSWER\"\"\"},\n",
    "    {\"role\": \"user\", \"content\":\"\"\"What year did the country where the place of birth of Beatrice Heuser is located form an alliance with Japan?\"\"\"},\n",
    "    {\"role\": \"assistant\", \"content\": \"\"\"<Q> Where was Beatrice Heuser born?\n",
    "<A> $1\n",
    "\n",
    "<Q> Which country is $1 located in?\n",
    "<A> $2\n",
    "\n",
    "<Q> In what year did $2 form an alliance with Japan?\n",
    "<A> $ANSWER\"\"\"}, \n",
    "    {\"role\": \"user\", \"content\":\"\"\"What does the US believe caused the country where Ercole Manfredi died to help Japan?\"\"\"},\n",
    "]\n",
    "\n",
    "\n",
    "outputs = pipeline(\n",
    "    messages,\n",
    "    max_new_tokens=256,\n",
    ")\n",
    "print(outputs[0][\"generated_text\"][-1][\"content\"])"
   ]
  }
 ],
 "metadata": {
  "kernelspec": {
   "display_name": "torch_241",
   "language": "python",
   "name": "python3"
  },
  "language_info": {
   "codemirror_mode": {
    "name": "ipython",
    "version": 3
   },
   "file_extension": ".py",
   "mimetype": "text/x-python",
   "name": "python",
   "nbconvert_exporter": "python",
   "pygments_lexer": "ipython3",
   "version": "3.9.19"
  }
 },
 "nbformat": 4,
 "nbformat_minor": 2
}
