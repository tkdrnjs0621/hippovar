{
 "cells": [
  {
   "cell_type": "code",
   "execution_count": 1,
   "metadata": {},
   "outputs": [
    {
     "data": {
      "application/vnd.jupyter.widget-view+json": {
       "model_id": "742c5fbb85cc45e8b7fe8d71924eec0b",
       "version_major": 2,
       "version_minor": 0
      },
      "text/plain": [
       "Loading checkpoint shards:   0%|          | 0/4 [00:00<?, ?it/s]"
      ]
     },
     "metadata": {},
     "output_type": "display_data"
    }
   ],
   "source": [
    "import transformers\n",
    "import torch\n",
    "\n",
    "model_id = \"meta-llama/Meta-Llama-3.1-8B-Instruct\"\n",
    "\n",
    "pipeline = transformers.pipeline(\n",
    "    \"text-generation\",\n",
    "    model=model_id,\n",
    "    model_kwargs={\"torch_dtype\": torch.bfloat16},\n",
    "    device_map=\"auto\",\n",
    ")"
   ]
  },
  {
   "cell_type": "code",
   "execution_count": 2,
   "metadata": {},
   "outputs": [
    {
     "name": "stderr",
     "output_type": "stream",
     "text": [
      "Setting `pad_token_id` to `eos_token_id`:128001 for open-end generation.\n"
     ]
    },
    {
     "name": "stdout",
     "output_type": "stream",
     "text": [
      "<Guanling District>:\n",
      "Guanling District is one of three districts of Yangzhou.\n",
      "Guanling District is located in Jiangsu province, China.\n",
      "Guanling District includes the eastern half of Yangzhou's main urban area.\n",
      "Guanling District includes Yangzhou's historic center within the former city wall.\n",
      "Guanling District includes the city's eastern suburbs.\n",
      "\n",
      "<Yangzhou>:\n",
      "Yangzhou is a city that includes Guanling District.\n",
      "Yangzhou has its main urban area divided into two halves.\n",
      "One half of Yangzhou's main urban area is in Guanling District.\n",
      "The other half of Yangzhou's main urban area is in Hanjiang District.\n",
      "\n",
      "<Jiangsu province>:\n",
      "Jiangsu province is where Guanling District is located.\n",
      "\n",
      "<Hanjiang District>:\n",
      "Hanjiang District is one of three districts of Yangzhou.\n",
      "Hanjiang District includes the other half of Yangzhou's main urban area.\n"
     ]
    }
   ],
   "source": [
    "messages = [{\"role\": \"system\", \"content\": \"\"\"You are a language model that paraphrases the given text in an entity-based manner. Named entities should be extracted, and then the information about the entities should be listed. Note that the informations should cover all given text about the entity, so many information should be repetitive.\"\"\"},\n",
    "    {\"role\": \"user\", \"content\": \"\"\"[Topic]\n",
    "Safari School\n",
    "[Text]\n",
    "Safari School is a BBC Two reality television series presented by Dr Charlotte Uhlenbroek in which eight celebrities take part in a four-week ranger training course in the Shamwari Game Reserve in South Africa.\"\"\"},\n",
    "    {\"role\": \"assistant\", \"content\": \"\"\"<Safari School>:\n",
    "Safari School is a BBC Two reality television series.\n",
    "Safari School is presented by Dr Charlotte Uhlenbroek.\n",
    "Safari School includes eight celebrities taking part in four-week ranger training course.\n",
    "Safari School includes Shamwari Game Reserve in South Africa.\n",
    "\n",
    "<Dr Charlotte Uhlenbroek>:\n",
    "Dr Charlotte Uhlenbroek presented Safari School.\n",
    "\n",
    "<Shamwari Game Reserve>:\n",
    "Shamwari Game Reserve was held in South Africa, in Safari School.\n",
    "\n",
    "<South Africa>:\n",
    "South Africa is where the Shamwari Game Reserve was held, in Safari School.\"\"\"},\n",
    "    {\"role\": \"user\", \"content\":\"\"\"[Topic]\n",
    "Guangling District\n",
    "[Text]\n",
    "Guangling District () is one of three districts of Yangzhou, Jiangsu province, China. The district includes the eastern half of Yangzhou's main urban area (including Yangzhou's historic center within the former city wall), and the city's eastern suburbs. The other half of the city's main urban area is in Hanjiang District.\"\"\"},\n",
    "]\n",
    "\n",
    "outputs = pipeline(\n",
    "    messages,\n",
    "    max_new_tokens=256,\n",
    ")\n",
    "print(outputs[0][\"generated_text\"][-1][\"content\"])"
   ]
  }
 ],
 "metadata": {
  "kernelspec": {
   "display_name": "torch_241",
   "language": "python",
   "name": "python3"
  },
  "language_info": {
   "codemirror_mode": {
    "name": "ipython",
    "version": 3
   },
   "file_extension": ".py",
   "mimetype": "text/x-python",
   "name": "python",
   "nbconvert_exporter": "python",
   "pygments_lexer": "ipython3",
   "version": "3.9.19"
  }
 },
 "nbformat": 4,
 "nbformat_minor": 2
}
