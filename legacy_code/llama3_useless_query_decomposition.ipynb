{
 "cells": [
  {
   "cell_type": "code",
   "execution_count": 4,
   "metadata": {},
   "outputs": [
    {
     "data": {
      "application/vnd.jupyter.widget-view+json": {
       "model_id": "3457ce23e65b4cf5a9e55d4c9d8e6e60",
       "version_major": 2,
       "version_minor": 0
      },
      "text/plain": [
       "Loading checkpoint shards:   0%|          | 0/4 [00:00<?, ?it/s]"
      ]
     },
     "metadata": {},
     "output_type": "display_data"
    },
    {
     "name": "stderr",
     "output_type": "stream",
     "text": [
      "huggingface/tokenizers: The current process just got forked, after parallelism has already been used. Disabling parallelism to avoid deadlocks...\n",
      "To disable this warning, you can either:\n",
      "\t- Avoid using `tokenizers` before the fork if possible\n",
      "\t- Explicitly set the environment variable TOKENIZERS_PARALLELISM=(true | false)\n",
      "Setting `pad_token_id` to `eos_token_id`:128001 for open-end generation.\n"
     ]
    },
    {
     "name": "stdout",
     "output_type": "stream",
     "text": [
      "($A, featured in, Mickey's Safari in Letterland)\n",
      "($B, named after, $A)\n"
     ]
    }
   ],
   "source": [
    "import transformers\n",
    "import torch\n",
    "\n",
    "model_id = \"meta-llama/Meta-Llama-3.1-8B-Instruct\"\n",
    "\n",
    "pipeline = transformers.pipeline(\n",
    "    \"text-generation\",\n",
    "    model=model_id,\n",
    "    model_kwargs={\"torch_dtype\": torch.bfloat16},\n",
    "    device_map=\"auto\",\n",
    ")\n",
    "\n",
    "messages = [{\"role\": \"system\", \"content\": \"\"\"You are a language model that decomposes the given query into the paths that can give the answer to the query. The path is a triplet of (entity, relation, entity).\"\"\"},\n",
    "    {\"role\": \"user\", \"content\": \"Who is the child of the cast member of Green Ice?\"},\n",
    "    {\"role\": \"assistant\", \"content\": \"\"\"($A, stars, Green Ice)\n",
    "($B, child of, $A)\"\"\"},\n",
    "    {\"role\": \"user\", \"content\":\"Who is the sibling of the actress that played the little girl in Miracle on 34th street 1947?\"},\n",
    "    {\"role\" : \"assistant\", \"content\" : \"\"\"($A, played little girl, Mircale on 34th street 1947)\n",
    "($B, sibling of, $A)\"\"\"},\n",
    "    {\"role\": \"user\", \"content\":\"\"\"What is the birthplace of the person after whom São José dos Campos was named?\"\"\"},\n",
    "    {\"role\": \"assistant\", \"content\":\"\"\"($A, named after, São José dos Campos)\n",
    "($A, born in, $B)\"\"\"},\n",
    "    {\"role\":\"user\",\"content\":\"\"\"What is the movie starring Preity Zinta, Madhuri Dixit and the spouse of Kajol?\"\"\"},\n",
    "    {\"role\":\"assistant\",\"content\":\"\"\"($A, spouse of, Kajol)\n",
    "($B, starrs, Preity Zinta)\n",
    "($B, starrs, Madhuri Dixit)\n",
    "($B, starrs, $A)\"\"\"},\n",
    "    {\"role\": \"user\", \"content\":\"\"\"What was the show named after the character featured in the video game Mickey's Safari in Letterland?\"\"\"}\n",
    "]\n",
    "\n",
    "outputs = pipeline(\n",
    "    messages,\n",
    "    max_new_tokens=256,\n",
    ")\n",
    "print(outputs[0][\"generated_text\"][-1][\"content\"])"
   ]
  },
  {
   "cell_type": "code",
   "execution_count": 7,
   "metadata": {},
   "outputs": [
    {
     "name": "stderr",
     "output_type": "stream",
     "text": [
      "Setting `pad_token_id` to `eos_token_id`:128001 for open-end generation.\n"
     ]
    },
    {
     "name": "stdout",
     "output_type": "stream",
     "text": [
      "($A, original voice of, character from Mickey's safari in Letterland)\n",
      "($A, from, $B)\n"
     ]
    }
   ],
   "source": [
    "messages = [{\"role\": \"system\", \"content\": \"\"\"You are a language model that decomposes the given query into the paths that can give the answer to the query. The path is a triplet of (entity, relation, entity).\"\"\"},\n",
    "    {\"role\": \"user\", \"content\": \"Who is the child of the cast member of Green Ice?\"},\n",
    "    {\"role\": \"assistant\", \"content\": \"\"\"($A, stars, Green Ice)\n",
    "($B, child of, $A)\"\"\"},\n",
    "    {\"role\": \"user\", \"content\":\"Who is the sibling of the actress that played the little girl in Miracle on 34th street 1947?\"},\n",
    "    {\"role\" : \"assistant\", \"content\" : \"\"\"($A, played little girl, Mircale on 34th street 1947)\n",
    "($B, sibling of, $A)\"\"\"},\n",
    "    {\"role\": \"user\", \"content\":\"\"\"What is the birthplace of the person after whom São José dos Campos was named?\"\"\"},\n",
    "    {\"role\": \"assistant\", \"content\":\"\"\"($A, named after, São José dos Campos)\n",
    "($A, born in, $B)\"\"\"},\n",
    "    {\"role\":\"user\",\"content\":\"\"\"What is the movie starring Preity Zinta, Madhuri Dixit and the spouse of Kajol?\"\"\"},\n",
    "    {\"role\":\"assistant\",\"content\":\"\"\"($A, spouse of, Kajol)\n",
    "($B, starrs, Preity Zinta)\n",
    "($B, starrs, Madhuri Dixit)\n",
    "($B, starrs, $A)\"\"\"},\n",
    "    {\"role\": \"user\", \"content\":\"\"\"Who did the original voice for the character whose series Mickey's safari in Letterland is from?\"\"\"}\n",
    "]\n",
    "\n",
    "outputs = pipeline(\n",
    "    messages,\n",
    "    max_new_tokens=256,\n",
    ")\n",
    "print(outputs[0][\"generated_text\"][-1][\"content\"])"
   ]
  }
 ],
 "metadata": {
  "kernelspec": {
   "display_name": "torch_241",
   "language": "python",
   "name": "python3"
  },
  "language_info": {
   "codemirror_mode": {
    "name": "ipython",
    "version": 3
   },
   "file_extension": ".py",
   "mimetype": "text/x-python",
   "name": "python",
   "nbconvert_exporter": "python",
   "pygments_lexer": "ipython3",
   "version": "3.9.19"
  }
 },
 "nbformat": 4,
 "nbformat_minor": 2
}
