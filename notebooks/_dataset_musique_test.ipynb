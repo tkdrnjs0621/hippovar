{
 "cells": [
  {
   "cell_type": "code",
   "execution_count": 2,
   "metadata": {},
   "outputs": [],
   "source": [
    "import json\n",
    "\n",
    "x = []\n",
    "with open(\"./data/musique_ans_v1.0_dev.jsonl\",\"r\") as f:\n",
    "    for k in f.readlines():\n",
    "        x.append(json.loads(k))"
   ]
  },
  {
   "cell_type": "code",
   "execution_count": 3,
   "metadata": {},
   "outputs": [
    {
     "name": "stdout",
     "output_type": "stream",
     "text": [
      "48315\n"
     ]
    }
   ],
   "source": [
    "print(len([k for a in x for k in a[\"paragraphs\"] ]))"
   ]
  },
  {
   "cell_type": "code",
   "execution_count": 8,
   "metadata": {},
   "outputs": [
    {
     "name": "stdout",
     "output_type": "stream",
     "text": [
      "dict_keys(['id', 'paragraphs', 'question', 'question_decomposition', 'answer', 'answer_aliases', 'answerable'])\n",
      "Question: Who is the child of Sigrid Eskilsdotter's child?\n",
      "Answer: Svante Stensson Sture\n",
      "Title : Child labour\n",
      "From European settlement in 1888, child convicts were occasionally sent to Australia where they were made to work. Child labour was not as excessive in Australia as in Britain. With a low population, agricultural productivity was higher and families did not face starvation as in established industrialised countries. Australia also did not have significant industry until the later part of the 20th century when child labour laws, and compulsory schooling had developed under the influence of Britain. From the 1870s Child labour was restricted by compulsorry schooling.\n",
      "Title : The Miracle Child\n",
      "The Miracle Child (French: L'enfant du miracle) is a 1932 French science fiction film based on a play of the same name by Robert Charvay and Paul Gavault. The plot of the film centers around a widow named Blanche Montel who endeavours to find a man with whom to produce a child so that she can pretend that the child was her late husband's and so inherit a fortune. In a scene which has been cited as particularly humorous, a few characters interrupt a Spiritualist séance and are subsequently believed to be ghosts. Ginette Leclerc's minor role in \"The Miracle Child\" was one of her first acting roles in a long and successful career.\n",
      "Title : Child labour\n",
      "In 1999, ILO helped lead the Worst Forms Convention 182 (C182), which has so far been signed upon and domestically ratified by 151 countries including the United States. This international law prohibits worst forms of child labour, defined as all forms of slavery and slavery-like practices, such as child trafficking, debt bondage, and forced labour, including forced recruitment of children into armed conflict. The law also prohibits the use of a child for prostitution or the production of pornography, child labour in illicit activities such as drug production and trafficking; and in hazardous work. Both the Worst Forms Convention (C182) and the Minimum Age Convention (C138) are examples of international labour standards implemented through the ILO that deal with child labour.\n",
      "Title : Child labour\n",
      "In developing countries, with high poverty and poor schooling opportunities, child labour is still prevalent. In 2010, sub-saharan Africa had the highest incidence rates of child labour, with several African nations witnessing over 50 percent of children aged 5–14 working. Worldwide agriculture is the largest employer of child labour. Vast majority of child labour is found in rural settings and informal urban economy; children are predominantly employed by their parents, rather than factories. Poverty and lack of schools are considered as the primary cause of child labour.\n",
      "Title : Sigrid Sture\n",
      "She was the daughter of Svante Stensson Sture and Märta (\"king Martha\") Erikdotter Leijonhufvud, thereby the niece of queen Margaret Leijonhufvud and the granddaughter of regent Christina Gyllenstierna. She married to Ture Pedersson Bielke and became the mother of Svante Turesson Bielke. After the death of her husband in 1577, she succeeded him as royal governor of Stranda hundred. This was an unusual position for a person of her gender in 16th century Sweden, and one she kept until her death over 30 years later. She was, however, not allowed to rule formally, but was forced to appoint male proxies to officially rule in her place.\n",
      "Title : Child labour\n",
      "A variety of Indian social scientists as well as the Non-Governmental Organization (NGOs) have done extensive research on the numeric figures of child labour found in India and determined that India contributes to one-third of Asia’s child labour and one-fourth of the world's child labour. Due to a large number of children being illegally employed, the Indian government began to take extensive actions to reduce the number of children working, and to focus on the importance of facilitating the proper growth and development of children.\n",
      "Title : One-child policy\n",
      "The one - child policy, a part of the family planning policy, was a population planning policy of China. It was introduced in 1979 and began to be formally phased out in 2015. The policy allowed exceptions for many groups, including ethnic minorities. In 2007, 36% of China's population was subject to a strict one - child restriction, with an additional 53% being allowed to have a second child if the first child was a girl. Provincial governments imposed fines for violations, and the local and national governments created commissions to raise awareness and carry out registration and inspection work.\n",
      "Title : Loekman Hakim\n",
      "Loekman Hakim was born in Cianjur, West Java, Indonesia, on December 30, 1975, to Eman Sulaeman and Iis Martini. Loekman is the third child of five siblings. His father was a teacher at SMP 5 Bandung. Loekman married Rika Nurhayati and have two child.\n",
      "Title : Blood Stain Child\n",
      "Blood Stain Child (stylised as BLOOD STAIN CHILD) is a Japanese heavy metal band from the city of Osaka. The band's musical style combines melodic death metal with electronic and trance. The band formed under the name \"Visionquest\" (stylised as \"VISIONQUEST\") in 1999, but changed their name to Blood Stain Child in 2000.\n",
      "Title : Toddler\n",
      "A toddler is a child 12 to 36 months old. The toddler years are a time of great cognitive, emotional and social development. The word is derived from ``to toddle '', which means to walk unsteadily, like a child of this age.\n",
      "Title : Don't Wanna Fall in Love\n",
      "``Do n't Wanna Fall in Love ''Single by Jane Child from the album Jane Child Released February 10, 1990 (USA) April 11, 1990 (UK) Format CD single Recorded 1988 - 1989 Genre R&B, synthpop, new jack swing Length 4: 07 Label Warner Bros. Songwriter (s) Jane Child Producer (s) Jane Child Jane Child singles chronology`` Welcome to the Real World'' (1990) ``Do n't Wanna Fall in Love ''(1990)`` Welcome to the Real World (reissue)'' (1990) ``Welcome to the Real World ''(1990)`` Do n't Wanna Fall in Love'' (1990) ``Welcome to the Real World (reissue) ''(1990)\n",
      "Title : One-child policy\n",
      "The one - child policy, a part of the family planning policy, was a population planning policy of China. It was introduced in 1979 and began to be formally phased out near the end of 2015 and the beginning of 2016. The policy was only enforced on Han Chinese and allowed exceptions for many groups, including ethnic minorities. In 2007, 36% of China's population was subject to a strict one - child restriction, with an additional 53% being allowed to have a second child if the first child was a girl. Provincial governments imposed fines for violations, and the local and national governments created commissions to raise awareness and carry out registration and inspection work.\n",
      "Title : Child labour\n",
      "Biggeri and Mehrotra have studied the macroeconomic factors that encourage child labour. They focus their study on five Asian nations including India, Pakistan, Indonesia, Thailand and Philippines. They suggest that child labour is a serious problem in all five, but it is not a new problem. Macroeconomic causes encouraged widespread child labour across the world, over most of human history. They suggest that the causes for child labour include both the demand and the supply side. While poverty and unavailability of good schools explain the child labour supply side, they suggest that the growth of low-paying informal economy rather than higher paying formal economy is amongst the causes of the demand side. Other scholars too suggest that inflexible labour market, sise of informal economy, inability of industries to scale up and lack of modern manufacturing technologies are major macroeconomic factors affecting demand and acceptability of child labour.\n",
      "Title : National Insurance number\n",
      "People born and resident in the UK are assigned a Child Reference Number shortly after birth when a claim is made for Child Benefit. At age 15 years 9 months HM Revenue and Customs (HMRC) notifies each child of their NI number.\n",
      "Title : Child labour\n",
      "Child labour refers to the employment of children in any work that deprives children of their childhood, interferes with their ability to attend regular school, and that is mentally, physically, socially or morally dangerous and harmful. This practice is considered exploitative by many international organisations. Legislation across the world prohibit child labour. These laws do not consider all work by children as child labour; exceptions include work by child artists, family duties, supervised training, certain categories of work such as those by Amish children, some forms of child work common among indigenous American children, and others.\n",
      "Title : Sigrid Eskilsdotter (Banér)\n",
      "Sigrid Eskilsdotter (Banér) (died 1527), was a Swedish noble, the mother of the Swedish regent Christina Gyllenstierna and the maternal grandmother of King Gustav Vasa of Sweden.\n",
      "Title : Child labour\n",
      "Child labour accounts for 22% of the workforce in Asia, 32% in Africa, 17% in Latin America, 1% in the US, Canada, Europe and other wealthy nations. The proportion of child labourers varies greatly among countries and even regions inside those countries. Africa has the highest percentage of children aged 5–17 employed as child labour, and a total of over 65 million. Asia, with its larger population, has the largest number of children employed as child labour at about 114 million. Latin America and Caribbean region have lower overall population density, but at 14 million child labourers has high incidence rates too.\n",
      "Title : Children's Act, 2005\n",
      "The Children's Act, 2005 (Act No. 38 of 2005) is an act of the Parliament of South Africa that consolidates and reforms the law on matters related to children. It deals with topics including the age of majority, paternity, custody, child support, guardianship, parenting plans, children's courts, circumcision, day care, child protection, foster care, group homes, adoption, surrogacy, child abduction, and trafficking of children.\n",
      "Title : International Children's Peace Prize\n",
      "The International Children's Peace Prize is awarded annually to a child who has made a significant contribution to advocating children's rights and improving the situation of vulnerable children such as orphans, child labourers and children with HIV / AIDS.\n",
      "Title : Andy Barclay\n",
      "Andy Barclay Child's Play character Andy in Child's Play 2 First appearance Child's Play Created by Don Mancini Portrayed by Alex Vincent (1 - 2, 6 - 7) Justin Whalin (3) Information Full name Andrew William Barclay Gender Male Family Karen Barclay (mother) Mr. Barclay (deceased father) Michael Norris (stepfather) Kyle (foster sister) Phil Simpson (deceased foster father) Joanne Simpson (deceased foster mother) Nationality American\n"
     ]
    }
   ],
   "source": [
    "t = x[18]\n",
    "print(t.keys())\n",
    "\n",
    "print(\"Question:\",t[\"question\"])\n",
    "print(\"Answer:\",t[\"answer\"])\n",
    "for a in t[\"paragraphs\"]:\n",
    "    print(\"Title :\",a[\"title\"])\n",
    "    print(a[\"paragraph_text\"])\n"
   ]
  }
 ],
 "metadata": {
  "kernelspec": {
   "display_name": "torch_241",
   "language": "python",
   "name": "python3"
  },
  "language_info": {
   "codemirror_mode": {
    "name": "ipython",
    "version": 3
   },
   "file_extension": ".py",
   "mimetype": "text/x-python",
   "name": "python",
   "nbconvert_exporter": "python",
   "pygments_lexer": "ipython3",
   "version": "3.9.19"
  }
 },
 "nbformat": 4,
 "nbformat_minor": 2
}
