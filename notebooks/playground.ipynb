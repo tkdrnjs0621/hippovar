{
 "cells": [
  {
   "cell_type": "code",
   "execution_count": 2,
   "metadata": {},
   "outputs": [
    {
     "name": "stderr",
     "output_type": "stream",
     "text": [
      "/home/tkdrnjs0621/miniconda3/envs/torch_241/lib/python3.9/site-packages/transformers/tokenization_utils_base.py:1601: FutureWarning: `clean_up_tokenization_spaces` was not set. It will be set to `True` by default. This behavior will be depracted in transformers v4.45, and will be then set to `False` by default. For more details check this issue: https://github.com/huggingface/transformers/issues/31884\n",
      "  warnings.warn(\n",
      "Some weights of the model checkpoint at dslim/bert-base-NER were not used when initializing BertForTokenClassification: ['bert.pooler.dense.bias', 'bert.pooler.dense.weight']\n",
      "- This IS expected if you are initializing BertForTokenClassification from the checkpoint of a model trained on another task or with another architecture (e.g. initializing a BertForSequenceClassification model from a BertForPreTraining model).\n",
      "- This IS NOT expected if you are initializing BertForTokenClassification from the checkpoint of a model that you expect to be exactly identical (initializing a BertForSequenceClassification model from a BertForSequenceClassification model).\n",
      "Hardware accelerator e.g. GPU is available in the environment, but no `device` argument is passed to the `Pipeline` object. Model will be on CPU.\n"
     ]
    },
    {
     "name": "stdout",
     "output_type": "stream",
     "text": [
      "[{'entity': 'B-PER', 'score': np.float32(0.9722214), 'index': 1, 'word': 'Dar', 'start': 0, 'end': 3}, {'entity': 'B-PER', 'score': np.float32(0.9885904), 'index': 5, 'word': 'Duke', 'start': 18, 'end': 22}, {'entity': 'B-PER', 'score': np.float32(0.99621177), 'index': 7, 'word': 'Jonathan', 'start': 24, 'end': 32}, {'entity': 'I-MISC', 'score': np.float32(0.76851475), 'index': 10, 'word': '##s', 'start': 42, 'end': 43}, {'entity': 'B-PER', 'score': np.float32(0.9994184), 'index': 16, 'word': 'Jo', 'start': 63, 'end': 65}, {'entity': 'I-PER', 'score': np.float32(0.9989016), 'index': 17, 'word': 'Stafford', 'start': 66, 'end': 74}, {'entity': 'B-PER', 'score': np.float32(0.99964976), 'index': 19, 'word': 'Paul', 'start': 79, 'end': 83}, {'entity': 'I-PER', 'score': np.float32(0.99925834), 'index': 20, 'word': 'Weston', 'start': 84, 'end': 90}, {'entity': 'B-PER', 'score': np.float32(0.9991726), 'index': 28, 'word': 'Jonathan', 'start': 129, 'end': 137}, {'entity': 'B-PER', 'score': np.float32(0.9985441), 'index': 30, 'word': 'Dar', 'start': 142, 'end': 145}, {'entity': 'B-PER', 'score': np.float32(0.99587643), 'index': 31, 'word': '##lene', 'start': 145, 'end': 149}, {'entity': 'I-PER', 'score': np.float32(0.9962101), 'index': 32, 'word': 'Edwards', 'start': 150, 'end': 157}, {'entity': 'B-PER', 'score': np.float32(0.9992785), 'index': 45, 'word': 'Duke', 'start': 219, 'end': 223}, {'entity': 'I-PER', 'score': np.float32(0.9971624), 'index': 46, 'word': 'Ellington', 'start': 224, 'end': 233}, {'entity': 'B-PER', 'score': np.float32(0.9990244), 'index': 48, 'word': 'Fat', 'start': 238, 'end': 241}, {'entity': 'B-PER', 'score': np.float32(0.99783224), 'index': 49, 'word': '##s', 'start': 241, 'end': 242}, {'entity': 'I-PER', 'score': np.float32(0.9980039), 'index': 50, 'word': 'Waller', 'start': 243, 'end': 249}, {'entity': 'B-PER', 'score': np.float32(0.9983418), 'index': 52, 'word': 'Stafford', 'start': 255, 'end': 263}, {'entity': 'B-PER', 'score': np.float32(0.99811757), 'index': 59, 'word': 'Weston', 'start': 300, 'end': 306}, {'entity': 'B-ORG', 'score': np.float32(0.989589), 'index': 72, 'word': 'Co', 'start': 359, 'end': 361}, {'entity': 'I-ORG', 'score': np.float32(0.97603196), 'index': 73, 'word': '##rin', 'start': 361, 'end': 364}, {'entity': 'I-ORG', 'score': np.float32(0.9785509), 'index': 74, 'word': '##thi', 'start': 364, 'end': 367}, {'entity': 'I-ORG', 'score': np.float32(0.9898234), 'index': 75, 'word': '##an', 'start': 367, 'end': 369}, {'entity': 'I-ORG', 'score': np.float32(0.99361897), 'index': 76, 'word': 'Records', 'start': 370, 'end': 377}, {'entity': 'B-ORG', 'score': np.float32(0.99508685), 'index': 85, 'word': 'Billboard', 'start': 390, 'end': 399}, {'entity': 'B-MISC', 'score': np.float32(0.9713885), 'index': 108, 'word': 'Grammy', 'start': 506, 'end': 512}, {'entity': 'B-PER', 'score': np.float32(0.9956937), 'index': 116, 'word': 'Stafford', 'start': 537, 'end': 545}, {'entity': 'B-PER', 'score': np.float32(0.9906846), 'index': 118, 'word': 'Weston', 'start': 550, 'end': 556}, {'entity': 'B-PER', 'score': np.float32(0.99901056), 'index': 125, 'word': 'Jonathan', 'start': 579, 'end': 587}, {'entity': 'B-PER', 'score': np.float32(0.9983814), 'index': 127, 'word': 'Dar', 'start': 592, 'end': 595}, {'entity': 'B-PER', 'score': np.float32(0.9545995), 'index': 128, 'word': '##lene', 'start': 595, 'end': 599}, {'entity': 'I-PER', 'score': np.float32(0.9943131), 'index': 129, 'word': 'Edwards', 'start': 600, 'end': 607}, {'entity': 'B-ORG', 'score': np.float32(0.98641115), 'index': 135, 'word': 'Los', 'start': 630, 'end': 633}, {'entity': 'I-ORG', 'score': np.float32(0.9844423), 'index': 136, 'word': 'Angeles', 'start': 634, 'end': 641}, {'entity': 'I-ORG', 'score': np.float32(0.98058105), 'index': 137, 'word': 'Magazine', 'start': 642, 'end': 650}]\n"
     ]
    }
   ],
   "source": [
    "from transformers import AutoTokenizer, AutoModelForTokenClassification\n",
    "from transformers import pipeline\n",
    "\n",
    "tokenizer = AutoTokenizer.from_pretrained(\"dslim/bert-base-NER\")\n",
    "model = AutoModelForTokenClassification.from_pretrained(\"dslim/bert-base-NER\")\n",
    "\n",
    "nlp = pipeline(\"ner\", model=model, tokenizer=tokenizer)\n",
    "example = \"\"\"Darlene Remembers Duke, Jonathan Plays Fats is a 1982 album by Jo Stafford and Paul Weston in which they perform in character as Jonathan and Darlene Edwards. The duo put their own unique interpretation on the music of Duke Ellington and Fats Waller with Stafford singing deliberately off key, while Weston plays an out of tune piano. The album was issued by Corinthian Records (COR-117). \"Billboard\" reviewed the album when it was newly released, saying, \"the sounds they achieve may well lead to another Grammy for the duo next year.\" Stafford and Weston, in their personas of Jonathan and Darlene Edwards, were interviewed by \"Los Angeles Magazine\" following the release of the album.\"\"\"\n",
    "\n",
    "ner_results = nlp(example)\n",
    "print(ner_results)"
   ]
  },
  {
   "cell_type": "code",
   "execution_count": 7,
   "metadata": {},
   "outputs": [
    {
     "data": {
      "application/vnd.jupyter.widget-view+json": {
       "model_id": "60e2ecd6a7c345e28124052d760ce698",
       "version_major": 2,
       "version_minor": 0
      },
      "text/plain": [
       "Downloading readme:   0%|          | 0.00/459 [00:00<?, ?B/s]"
      ]
     },
     "metadata": {},
     "output_type": "display_data"
    },
    {
     "data": {
      "application/vnd.jupyter.widget-view+json": {
       "model_id": "5419145cbbbf4527941061f0bc28d019",
       "version_major": 2,
       "version_minor": 0
      },
      "text/plain": [
       "Downloading data:   0%|          | 0.00/218k [00:00<?, ?B/s]"
      ]
     },
     "metadata": {},
     "output_type": "display_data"
    },
    {
     "data": {
      "application/vnd.jupyter.widget-view+json": {
       "model_id": "e5f697abd8184a74a5960fe4b3c57e06",
       "version_major": 2,
       "version_minor": 0
      },
      "text/plain": [
       "Generating train split:   0%|          | 0/30 [00:00<?, ? examples/s]"
      ]
     },
     "metadata": {},
     "output_type": "display_data"
    }
   ],
   "source": [
    "from datasets import load_dataset\n",
    "x = load_dataset(\"tkdrnjs0621/musique_ans_processed_pv2_ner_30\",split=\"train\")"
   ]
  },
  {
   "cell_type": "code",
   "execution_count": 8,
   "metadata": {},
   "outputs": [
    {
     "name": "stdout",
     "output_type": "stream",
     "text": [
      "The company's core business is in commercial and animation output, which includes work for Cartoon Network, music videos for Gorillaz, and the Compare the Market.com commercial campaign featuring Aleksandr Orlov (meerkat). Passion Australia produced \"The Lost Thing\", directed by Andrew Ruhemann and Shaun Tan, which won an Academy Award for Best Animated Short Film in 2011. The Red Tree (2001), written and illustrated by Shaun Tan, is a picture book that presents a fragmented journey through a dark world. The illustrations are surreal. The text is sparse and matches the dark illustrations.\n"
     ]
    }
   ],
   "source": [
    "for k in x[15][\"merged_context\"]:\n",
    "    if k[0]==\"Shaun Tan\":\n",
    "        print(k[1])"
   ]
  },
  {
   "cell_type": "code",
   "execution_count": 2,
   "metadata": {},
   "outputs": [],
   "source": [
    "from datasets import load_from_disk, concatenate_datasets\n",
    "\n",
    "a = load_from_disk(\"/home/tkdrnjs0621/work/multihopqa_v1/inference/subset_300_end_pv2/ner\")\n",
    "b = load_from_disk(\"/home/tkdrnjs0621/work/multihopqa_v1/inference/subset_300_pv2/ner\")\n",
    "c = concatenate_datasets([a,b])"
   ]
  },
  {
   "cell_type": "code",
   "execution_count": 4,
   "metadata": {},
   "outputs": [
    {
     "data": {
      "application/vnd.jupyter.widget-view+json": {
       "model_id": "fffb5182d6d14c6c84b1ef09888329fe",
       "version_major": 2,
       "version_minor": 0
      },
      "text/plain": [
       "Saving the dataset (0/1 shards):   0%|          | 0/48315 [00:00<?, ? examples/s]"
      ]
     },
     "metadata": {},
     "output_type": "display_data"
    }
   ],
   "source": [
    "c.save_to_disk(\"/home/tkdrnjs0621/work/multihopqa_v1/inference/musique_ans/ner\")"
   ]
  },
  {
   "cell_type": "code",
   "execution_count": 5,
   "metadata": {},
   "outputs": [
    {
     "data": {
      "application/vnd.jupyter.widget-view+json": {
       "model_id": "31e71104ee594368aa9152e4830d0c61",
       "version_major": 2,
       "version_minor": 0
      },
      "text/plain": [
       "Filter:   0%|          | 0/2417 [00:00<?, ? examples/s]"
      ]
     },
     "metadata": {},
     "output_type": "display_data"
    },
    {
     "data": {
      "application/vnd.jupyter.widget-view+json": {
       "model_id": "34115f056a064222bff383ae552010f0",
       "version_major": 2,
       "version_minor": 0
      },
      "text/plain": [
       "Filter:   0%|          | 0/2417 [00:00<?, ? examples/s]"
      ]
     },
     "metadata": {},
     "output_type": "display_data"
    },
    {
     "data": {
      "application/vnd.jupyter.widget-view+json": {
       "model_id": "b8739717962348a3b10a85cb58578cb2",
       "version_major": 2,
       "version_minor": 0
      },
      "text/plain": [
       "Filter:   0%|          | 0/2417 [00:00<?, ? examples/s]"
      ]
     },
     "metadata": {},
     "output_type": "display_data"
    },
    {
     "name": "stdout",
     "output_type": "stream",
     "text": [
      "2417 1252 760 405\n"
     ]
    }
   ],
   "source": [
    "from datasets import load_from_disk, concatenate_datasets\n",
    "a = load_from_disk(\"/home/tkdrnjs0621/work/multihopqa_v1/inference/musique_ans_ner/answering_single\")\n",
    "x1 = a.filter(lambda x: x[\"id\"].startswith('2hop'))\n",
    "x2 = a.filter(lambda x: x[\"id\"].startswith('3hop'))\n",
    "x3 = a.filter(lambda x: x[\"id\"].startswith('4hop'))\n",
    "print(len(a),len(x1),len(x2),len(x3))"
   ]
  },
  {
   "cell_type": "code",
   "execution_count": 6,
   "metadata": {},
   "outputs": [
    {
     "name": "stdout",
     "output_type": "stream",
     "text": [
      "2hop: 0.4455069041881056\n",
      "3hop: 0.42509929478800756\n",
      "4hop: 0.26589133535993464\n"
     ]
    }
   ],
   "source": [
    "print(\"2hop:\",sum(x1[\"f1\"])/len(x1))\n",
    "print(\"3hop:\",sum(x2[\"f1\"])/len(x2))\n",
    "print(\"4hop:\",sum(x3[\"f1\"])/len(x3))"
   ]
  }
 ],
 "metadata": {
  "kernelspec": {
   "display_name": "torch_241",
   "language": "python",
   "name": "python3"
  },
  "language_info": {
   "codemirror_mode": {
    "name": "ipython",
    "version": 3
   },
   "file_extension": ".py",
   "mimetype": "text/x-python",
   "name": "python",
   "nbconvert_exporter": "python",
   "pygments_lexer": "ipython3",
   "version": "3.9.19"
  }
 },
 "nbformat": 4,
 "nbformat_minor": 2
}
